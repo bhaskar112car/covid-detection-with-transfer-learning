{
 "cells": [
  {
   "cell_type": "code",
   "execution_count": 2,
   "id": "e12e70ce",
   "metadata": {},
   "outputs": [],
   "source": [
    "import tensorflow as tf\n",
    "from tensorflow.keras import models, datasets, Sequential\n",
    "from tensorflow.keras.preprocessing.image import ImageDataGenerator\n",
    "import numpy as np\n",
    "from tensorflow.keras import layers\n",
    "from os import listdir\n",
    "from sklearn.metrics import confusion_matrix,classification_report"
   ]
  },
  {
   "cell_type": "code",
   "execution_count": 2,
   "id": "619b7562",
   "metadata": {},
   "outputs": [
    {
     "name": "stdout",
     "output_type": "stream",
     "text": [
      " Volume in drive C has no label.\n",
      " Volume Serial Number is 5C0E-61B9\n",
      "\n",
      " Directory of C:\\Users\\Personal00\\Desktop\\new desk\\Python\\deep learning\\covid detection\n",
      "\n",
      "03-10-2023  07:12 PM    <DIR>          .\n",
      "03-10-2023  07:12 PM    <DIR>          ..\n",
      "03-10-2023  07:12 PM    <DIR>          .ipynb_checkpoints\n",
      "03-10-2023  12:35 PM            21,796 covid detection with transfer learning.ipynb\n",
      "03-10-2023  01:51 PM    <DIR>          covidDetection\n",
      "               1 File(s)         21,796 bytes\n",
      "               4 Dir(s)  41,283,235,840 bytes free\n"
     ]
    }
   ],
   "source": [
    "ls"
   ]
  },
  {
   "cell_type": "code",
   "execution_count": 3,
   "id": "c1bbd80a",
   "metadata": {},
   "outputs": [
    {
     "data": {
      "text/plain": [
       "['bacterial_viral', 'COVID']"
      ]
     },
     "execution_count": 3,
     "metadata": {},
     "output_type": "execute_result"
    }
   ],
   "source": [
    "data_list_model=listdir('covidDetection/train')\n",
    "data_list_model"
   ]
  },
  {
   "cell_type": "code",
   "execution_count": 1,
   "id": "712b74bb",
   "metadata": {},
   "outputs": [
    {
     "ename": "NameError",
     "evalue": "name 'listdir' is not defined",
     "output_type": "error",
     "traceback": [
      "\u001b[1;31m---------------------------------------------------------------------------\u001b[0m",
      "\u001b[1;31mNameError\u001b[0m                                 Traceback (most recent call last)",
      "Cell \u001b[1;32mIn[1], line 1\u001b[0m\n\u001b[1;32m----> 1\u001b[0m data_list_model\u001b[38;5;241m=\u001b[39mlistdir(\u001b[38;5;124m'\u001b[39m\u001b[38;5;124mcovidDetection/test\u001b[39m\u001b[38;5;124m'\u001b[39m)\n\u001b[0;32m      2\u001b[0m data_list_model\n",
      "\u001b[1;31mNameError\u001b[0m: name 'listdir' is not defined"
     ]
    }
   ],
   "source": [
    "data_list_model=listdir('covidDetection/test')\n",
    "data_list_model"
   ]
  },
  {
   "cell_type": "code",
   "execution_count": 5,
   "id": "600b8f6c",
   "metadata": {},
   "outputs": [],
   "source": [
    "img_size=(200,200)\n",
    "batch_size=100\n",
    "no_of_epochs=100\n",
    "learn_rate=0.0001\n",
    "no_classes=len(data_list_model)"
   ]
  },
  {
   "cell_type": "code",
   "execution_count": 6,
   "id": "b8e59029",
   "metadata": {},
   "outputs": [
    {
     "name": "stderr",
     "output_type": "stream",
     "text": [
      "C:\\Users\\Personal00\\anaconda3\\Lib\\site-packages\\keras\\src\\preprocessing\\image.py:1451: UserWarning: This ImageDataGenerator specifies `zca_whitening` which overrides setting of`featurewise_std_normalization`.\n",
      "  warnings.warn(\n"
     ]
    }
   ],
   "source": [
    "# train data generator common object\n",
    "img_data_gen=ImageDataGenerator(featurewise_center=True,\n",
    "                samplewise_center=False,\n",
    "                featurewise_std_normalization=True,\n",
    "                samplewise_std_normalization=False,\n",
    "                zca_whitening=True,\n",
    "                rotation_range=50,\n",
    "                width_shift_range=0.2,\n",
    "                height_shift_range=0.2,\n",
    "                shear_range=0.25,\n",
    "                zoom_range=0.1,\n",
    "                channel_shift_range=20,\n",
    "                fill_mode='constant',\n",
    "                horizontal_flip=True,\n",
    "                vertical_flip=True,\n",
    "                rescale=1./255)"
   ]
  },
  {
   "cell_type": "code",
   "execution_count": 7,
   "id": "2b1b18f3",
   "metadata": {},
   "outputs": [],
   "source": [
    "train_data_set_loc='covidDetection/train'"
   ]
  },
  {
   "cell_type": "code",
   "execution_count": 8,
   "id": "91584d35",
   "metadata": {},
   "outputs": [
    {
     "name": "stdout",
     "output_type": "stream",
     "text": [
      "Found 175 images belonging to 2 classes.\n"
     ]
    }
   ],
   "source": [
    "# generate train batches\n",
    "train_batches=img_data_gen.flow_from_directory(train_data_set_loc,\n",
    "                target_size=img_size,\n",
    "                classes=None,\n",
    "                class_mode='categorical',\n",
    "                batch_size=batch_size,\n",
    "                shuffle=True,\n",
    "                seed=42, \n",
    "                subset='training')"
   ]
  },
  {
   "cell_type": "code",
   "execution_count": 9,
   "id": "d6b3d665",
   "metadata": {},
   "outputs": [],
   "source": [
    "test_data_set_loc='covidDetection/test'"
   ]
  },
  {
   "cell_type": "code",
   "execution_count": 10,
   "id": "1f67f9b2",
   "metadata": {},
   "outputs": [
    {
     "name": "stdout",
     "output_type": "stream",
     "text": [
      "Found 0 images belonging to 2 classes.\n"
     ]
    }
   ],
   "source": [
    "# generate test/validation batches\n",
    "test_batches=img_data_gen.flow_from_directory(test_data_set_loc,\n",
    "                target_size=img_size,\n",
    "                classes=None,\n",
    "                class_mode='categorical',\n",
    "                batch_size=batch_size,\n",
    "                shuffle=True,\n",
    "                seed=42,\n",
    "                subset='validation')"
   ]
  },
  {
   "cell_type": "code",
   "execution_count": 11,
   "id": "b468a9b0",
   "metadata": {},
   "outputs": [],
   "source": [
    "# import vgg16 model with weights\n",
    "# include_top layer false beacause dont want to add probability cal layer\n",
    "vgg16_model= tf.keras.applications.vgg16.VGG16(include_top=False,\n",
    "                                               weights='imagenet',\n",
    "                                               input_tensor=None,\n",
    "                                               input_shape=(200,200,3)\n",
    "                                              )"
   ]
  },
  {
   "cell_type": "code",
   "execution_count": 12,
   "id": "141a5af5",
   "metadata": {},
   "outputs": [
    {
     "name": "stdout",
     "output_type": "stream",
     "text": [
      "Model: \"vgg16\"\n",
      "_________________________________________________________________\n",
      " Layer (type)                Output Shape              Param #   \n",
      "=================================================================\n",
      " input_1 (InputLayer)        [(None, 200, 200, 3)]     0         \n",
      "                                                                 \n",
      " block1_conv1 (Conv2D)       (None, 200, 200, 64)      1792      \n",
      "                                                                 \n",
      " block1_conv2 (Conv2D)       (None, 200, 200, 64)      36928     \n",
      "                                                                 \n",
      " block1_pool (MaxPooling2D)  (None, 100, 100, 64)      0         \n",
      "                                                                 \n",
      " block2_conv1 (Conv2D)       (None, 100, 100, 128)     73856     \n",
      "                                                                 \n",
      " block2_conv2 (Conv2D)       (None, 100, 100, 128)     147584    \n",
      "                                                                 \n",
      " block2_pool (MaxPooling2D)  (None, 50, 50, 128)       0         \n",
      "                                                                 \n",
      " block3_conv1 (Conv2D)       (None, 50, 50, 256)       295168    \n",
      "                                                                 \n",
      " block3_conv2 (Conv2D)       (None, 50, 50, 256)       590080    \n",
      "                                                                 \n",
      " block3_conv3 (Conv2D)       (None, 50, 50, 256)       590080    \n",
      "                                                                 \n",
      " block3_pool (MaxPooling2D)  (None, 25, 25, 256)       0         \n",
      "                                                                 \n",
      " block4_conv1 (Conv2D)       (None, 25, 25, 512)       1180160   \n",
      "                                                                 \n",
      " block4_conv2 (Conv2D)       (None, 25, 25, 512)       2359808   \n",
      "                                                                 \n",
      " block4_conv3 (Conv2D)       (None, 25, 25, 512)       2359808   \n",
      "                                                                 \n",
      " block4_pool (MaxPooling2D)  (None, 12, 12, 512)       0         \n",
      "                                                                 \n",
      " block5_conv1 (Conv2D)       (None, 12, 12, 512)       2359808   \n",
      "                                                                 \n",
      " block5_conv2 (Conv2D)       (None, 12, 12, 512)       2359808   \n",
      "                                                                 \n",
      " block5_conv3 (Conv2D)       (None, 12, 12, 512)       2359808   \n",
      "                                                                 \n",
      " block5_pool (MaxPooling2D)  (None, 6, 6, 512)         0         \n",
      "                                                                 \n",
      "=================================================================\n",
      "Total params: 14714688 (56.13 MB)\n",
      "Trainable params: 14714688 (56.13 MB)\n",
      "Non-trainable params: 0 (0.00 Byte)\n",
      "_________________________________________________________________\n"
     ]
    }
   ],
   "source": [
    "vgg16_model.summary()"
   ]
  },
  {
   "cell_type": "code",
   "execution_count": 13,
   "id": "7991febf",
   "metadata": {},
   "outputs": [],
   "source": [
    "for layer in vgg16_model.layers[:-4]:\n",
    "    layer.trainable=False\n",
    "\n",
    "# create covid model with vgg16 pre-trained weights \n",
    "covid_mod=tf.keras.Sequential()\n",
    "covid_mod.add(vgg16_model)\n",
    "covid_mod.add(layers.Flatten())\n",
    "covid_mod.add(layers.Dense(64,activation='relu'))\n",
    "covid_mod.add(layers.Dense(2,activation='softmax'))"
   ]
  },
  {
   "cell_type": "code",
   "execution_count": 14,
   "id": "71ed19f2",
   "metadata": {},
   "outputs": [],
   "source": [
    "covid_mod.compile(optimizer=tf.keras.optimizers.Adam(learning_rate=learn_rate),\n",
    "    loss='categorical_crossentropy',\n",
    "    metrics=['accuracy'],\n",
    "    loss_weights=None,\n",
    "    weighted_metrics=None,\n",
    "    run_eagerly=None,\n",
    "    steps_per_execution=None,\n",
    "    jit_compile=None,\n",
    "    pss_evaluation_shards=0)"
   ]
  },
  {
   "cell_type": "code",
   "execution_count": 15,
   "id": "7fd1004e",
   "metadata": {},
   "outputs": [
    {
     "name": "stdout",
     "output_type": "stream",
     "text": [
      "1 0\n"
     ]
    }
   ],
   "source": [
    "step_size_train=train_batches.n//train_batches.batch_size\n",
    "step_size_valid=test_batches.n//test_batches.batch_size\n",
    "print(step_size_train,step_size_valid)\n"
   ]
  },
  {
   "cell_type": "code",
   "execution_count": 16,
   "id": "cc97dc76",
   "metadata": {},
   "outputs": [
    {
     "name": "stderr",
     "output_type": "stream",
     "text": [
      "C:\\Users\\Personal00\\AppData\\Local\\Temp\\ipykernel_4872\\3228596922.py:2: UserWarning: `Model.fit_generator` is deprecated and will be removed in a future version. Please use `Model.fit`, which supports generators.\n",
      "  covid_mod.fit_generator(train_batches,steps_per_epoch=step_size_train,epochs=5,verbose=True)\n",
      "C:\\Users\\Personal00\\anaconda3\\Lib\\site-packages\\keras\\src\\preprocessing\\image.py:1861: UserWarning: This ImageDataGenerator specifies `featurewise_center`, but it hasn't been fit on any training data. Fit it first by calling `.fit(numpy_data)`.\n",
      "  warnings.warn(\n",
      "C:\\Users\\Personal00\\anaconda3\\Lib\\site-packages\\keras\\src\\preprocessing\\image.py:1884: UserWarning: This ImageDataGenerator specifies `zca_whitening`, but it hasn't been fit on any training data. Fit it first by calling `.fit(numpy_data)`.\n",
      "  warnings.warn(\n"
     ]
    },
    {
     "name": "stdout",
     "output_type": "stream",
     "text": [
      "Epoch 1/5\n",
      "1/1 [==============================] - 33s 33s/step - loss: 0.6804 - accuracy: 0.5200\n",
      "Epoch 2/5\n",
      "1/1 [==============================] - 38s 38s/step - loss: 0.8531 - accuracy: 0.5067\n",
      "Epoch 3/5\n",
      "1/1 [==============================] - 23s 23s/step - loss: 0.5904 - accuracy: 0.7467\n",
      "Epoch 4/5\n",
      "1/1 [==============================] - 24s 24s/step - loss: 0.6797 - accuracy: 0.5200\n",
      "Epoch 5/5\n",
      "1/1 [==============================] - 30s 30s/step - loss: 0.5839 - accuracy: 0.7900\n"
     ]
    },
    {
     "data": {
      "text/plain": [
       "<keras.src.callbacks.History at 0x26c8dafa910>"
      ]
     },
     "execution_count": 16,
     "metadata": {},
     "output_type": "execute_result"
    }
   ],
   "source": [
    "# to train covid model\n",
    "covid_mod.fit_generator(train_batches,steps_per_epoch=step_size_train,epochs=5,verbose=True)"
   ]
  },
  {
   "cell_type": "code",
   "execution_count": 17,
   "id": "16f9be4b",
   "metadata": {},
   "outputs": [
    {
     "name": "stdout",
     "output_type": "stream",
     "text": [
      "Found 175 images belonging to 2 classes.\n"
     ]
    }
   ],
   "source": [
    "# generate train batches\n",
    "train_batches=img_data_gen.flow_from_directory(train_data_set_loc,\n",
    "                target_size=img_size,\n",
    "                classes=None,\n",
    "                class_mode='categorical',\n",
    "                batch_size=batch_size,\n",
    "                shuffle=True,\n",
    "                seed=42, \n",
    "                subset='training')"
   ]
  },
  {
   "cell_type": "code",
   "execution_count": 18,
   "id": "8d2a2fa2",
   "metadata": {},
   "outputs": [
    {
     "name": "stdout",
     "output_type": "stream",
     "text": [
      "Found 175 images belonging to 2 classes.\n"
     ]
    }
   ],
   "source": [
    "img_data_gen=ImageDataGenerator(rescale=1./255)\n",
    "train_batch=img_data_gen.flow_from_directory(train_data_set_loc,target_size=img_size,batch_size=1\n",
    "                                              ,shuffle=False,seed=42)"
   ]
  },
  {
   "cell_type": "code",
   "execution_count": 19,
   "id": "6f730135",
   "metadata": {},
   "outputs": [
    {
     "name": "stderr",
     "output_type": "stream",
     "text": [
      "C:\\Users\\Personal00\\AppData\\Local\\Temp\\ipykernel_4872\\777238245.py:2: UserWarning: `Model.evaluate_generator` is deprecated and will be removed in a future version. Please use `Model.evaluate`, which supports generators.\n",
      "  train_result=covid_mod.evaluate_generator(train_batch,steps=len(train_batch),\n"
     ]
    },
    {
     "name": "stdout",
     "output_type": "stream",
     "text": [
      "175/175 [==============================] - 42s 231ms/step - loss: 0.5098 - accuracy: 0.7543\n",
      "train_loss 0.5097560286521912 train_accuracy  0.7542856931686401\n"
     ]
    }
   ],
   "source": [
    "train_batch.reset()\n",
    "train_result=covid_mod.evaluate_generator(train_batch,steps=len(train_batch),\n",
    "                                         use_multiprocessing=False,\n",
    "                                         verbose=1,\n",
    "                                         workers=1)\n",
    "print('train_loss',train_result[0],'train_accuracy ',train_result[1])"
   ]
  },
  {
   "cell_type": "code",
   "execution_count": 21,
   "id": "9c846822",
   "metadata": {},
   "outputs": [
    {
     "name": "stderr",
     "output_type": "stream",
     "text": [
      "C:\\Users\\Personal00\\AppData\\Local\\Temp\\ipykernel_4872\\1874635252.py:1: UserWarning: `Model.predict_generator` is deprecated and will be removed in a future version. Please use `Model.predict`, which supports generators.\n",
      "  predict_model=covid_mod.predict_generator(train_batch,steps=len(train_batch))\n"
     ]
    }
   ],
   "source": [
    "predict_model=covid_mod.predict_generator(train_batch,steps=len(train_batch))\n",
    "predicted_class=np.argmax(predict_model,axis=1)"
   ]
  },
  {
   "cell_type": "code",
   "execution_count": 22,
   "id": "65fdd56f",
   "metadata": {},
   "outputs": [
    {
     "name": "stdout",
     "output_type": "stream",
     "text": [
      "[[ 32  43]\n",
      " [  0 100]]\n"
     ]
    }
   ],
   "source": [
    "print(confusion_matrix(train_batch.classes,predicted_class))"
   ]
  },
  {
   "cell_type": "code",
   "execution_count": 23,
   "id": "bd15d7d9",
   "metadata": {},
   "outputs": [
    {
     "name": "stdout",
     "output_type": "stream",
     "text": [
      "              precision    recall  f1-score   support\n",
      "\n",
      "           0       1.00      0.43      0.60        75\n",
      "           1       0.70      1.00      0.82       100\n",
      "\n",
      "    accuracy                           0.75       175\n",
      "   macro avg       0.85      0.71      0.71       175\n",
      "weighted avg       0.83      0.75      0.73       175\n",
      "\n"
     ]
    }
   ],
   "source": [
    "print(classification_report(train_batch.classes,predicted_class))"
   ]
  },
  {
   "cell_type": "code",
   "execution_count": 24,
   "id": "840f975a",
   "metadata": {},
   "outputs": [
    {
     "name": "stdout",
     "output_type": "stream",
     "text": [
      "Found 50 images belonging to 2 classes.\n"
     ]
    }
   ],
   "source": [
    "test_data_gen=ImageDataGenerator(rescale=1./255)\n",
    "test_batch=test_data_gen.flow_from_directory(test_data_set_loc,target_size=img_size,batch_size=1\n",
    "                                              ,shuffle=False,seed=42)"
   ]
  },
  {
   "cell_type": "code",
   "execution_count": 25,
   "id": "2f651acb",
   "metadata": {},
   "outputs": [
    {
     "name": "stderr",
     "output_type": "stream",
     "text": [
      "C:\\Users\\Personal00\\AppData\\Local\\Temp\\ipykernel_4872\\1445285176.py:2: UserWarning: `Model.evaluate_generator` is deprecated and will be removed in a future version. Please use `Model.evaluate`, which supports generators.\n",
      "  test_result=covid_mod.evaluate_generator(test_batch,steps=len(test_batch),\n"
     ]
    },
    {
     "name": "stdout",
     "output_type": "stream",
     "text": [
      "50/50 [==============================] - 13s 261ms/step - loss: 0.5669 - accuracy: 0.6200\n",
      "train_loss 0.5669423937797546 train_accuracy  0.6200000047683716\n"
     ]
    }
   ],
   "source": [
    "test_batch.reset()\n",
    "test_result=covid_mod.evaluate_generator(test_batch,steps=len(test_batch),\n",
    "                                         use_multiprocessing=False,\n",
    "                                         verbose=1,\n",
    "                                         workers=1)\n",
    "print('train_loss',test_result[0],'train_accuracy ',test_result[1])"
   ]
  },
  {
   "cell_type": "code",
   "execution_count": 26,
   "id": "eac555e8",
   "metadata": {},
   "outputs": [
    {
     "name": "stderr",
     "output_type": "stream",
     "text": [
      "C:\\Users\\Personal00\\AppData\\Local\\Temp\\ipykernel_4872\\3017666660.py:1: UserWarning: `Model.predict_generator` is deprecated and will be removed in a future version. Please use `Model.predict`, which supports generators.\n",
      "  predict_model=covid_mod.predict_generator(test_batch,steps=len(test_batch))\n"
     ]
    }
   ],
   "source": [
    "predict_model=covid_mod.predict_generator(test_batch,steps=len(test_batch))\n",
    "predicted_class=np.argmax(predict_model,axis=1)"
   ]
  },
  {
   "cell_type": "code",
   "execution_count": 27,
   "id": "49cc8d45",
   "metadata": {},
   "outputs": [
    {
     "name": "stdout",
     "output_type": "stream",
     "text": [
      "[[ 6 19]\n",
      " [ 0 25]]\n"
     ]
    }
   ],
   "source": [
    "print(confusion_matrix(test_batch.classes,predicted_class))\n"
   ]
  },
  {
   "cell_type": "code",
   "execution_count": 28,
   "id": "fd4be60d",
   "metadata": {},
   "outputs": [
    {
     "name": "stdout",
     "output_type": "stream",
     "text": [
      "              precision    recall  f1-score   support\n",
      "\n",
      "           0       1.00      0.24      0.39        25\n",
      "           1       0.57      1.00      0.72        25\n",
      "\n",
      "    accuracy                           0.62        50\n",
      "   macro avg       0.78      0.62      0.56        50\n",
      "weighted avg       0.78      0.62      0.56        50\n",
      "\n"
     ]
    }
   ],
   "source": [
    "print(classification_report(test_batch.classes,predicted_class))"
   ]
  },
  {
   "cell_type": "code",
   "execution_count": null,
   "id": "e61bdbf7",
   "metadata": {},
   "outputs": [],
   "source": []
  }
 ],
 "metadata": {
  "kernelspec": {
   "display_name": "Python 3 (ipykernel)",
   "language": "python",
   "name": "python3"
  },
  "language_info": {
   "codemirror_mode": {
    "name": "ipython",
    "version": 3
   },
   "file_extension": ".py",
   "mimetype": "text/x-python",
   "name": "python",
   "nbconvert_exporter": "python",
   "pygments_lexer": "ipython3",
   "version": "3.11.4"
  }
 },
 "nbformat": 4,
 "nbformat_minor": 5
}
